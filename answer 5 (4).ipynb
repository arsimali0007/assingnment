{
 "cells": [
  {
   "cell_type": "code",
   "execution_count": null,
   "metadata": {},
   "outputs": [
    {
     "name": "stdout",
     "output_type": "stream",
     "text": [
      "Random number has been generated\n"
     ]
    }
   ],
   "source": [
    "import random\n",
    "randomNumber = random.randrange(0,30)\n",
    "print(\"Random number has been generated\")\n",
    "guessed = False\n",
    "while guessed==False:\n",
    "    userInput = int(input(\"Your guess pleas: \"))\n",
    "    if userInput==randomNumber:\n",
    "        guessed = True\n",
    "        print(\"Well done!\")\n",
    "    elif userInput>30:\n",
    "        print(\"Our guess range is between 0 and 30, please try a bit lower\")\n",
    "    elif userInput<0:\n",
    "        print(\"Our guess range is between 0 and 30, please try a bit higher\")\n",
    "    elif userInput>randomNumber:\n",
    "        print(\"Try one more time, a bit lower\")\n",
    "    elif userInput < randomNumber:\n",
    "        print(\"Try one more time, a bit higher\")\n",
    "\n",
    "print(\"End of program\")"
   ]
  },
  {
   "cell_type": "code",
   "execution_count": null,
   "metadata": {},
   "outputs": [],
   "source": []
  }
 ],
 "metadata": {
  "kernelspec": {
   "display_name": "Python 3",
   "language": "python",
   "name": "python3"
  },
  "language_info": {
   "codemirror_mode": {
    "name": "ipython",
    "version": 3
   },
   "file_extension": ".py",
   "mimetype": "text/x-python",
   "name": "python",
   "nbconvert_exporter": "python",
   "pygments_lexer": "ipython3",
   "version": "3.7.4"
  }
 },
 "nbformat": 4,
 "nbformat_minor": 2
}
