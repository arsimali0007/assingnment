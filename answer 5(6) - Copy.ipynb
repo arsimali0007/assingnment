{
 "cells": [
  {
   "cell_type": "code",
   "execution_count": 3,
   "metadata": {},
   "outputs": [
    {
     "ename": "TypeError",
     "evalue": "car() takes no arguments",
     "output_type": "error",
     "traceback": [
      "\u001b[1;31m---------------------------------------------------------------------------\u001b[0m",
      "\u001b[1;31mTypeError\u001b[0m                                 Traceback (most recent call last)",
      "\u001b[1;32m<ipython-input-3-781893479ae1>\u001b[0m in \u001b[0;36m<module>\u001b[1;34m\u001b[0m\n\u001b[0;32m     16\u001b[0m         \u001b[0mprint\u001b[0m \u001b[1;33m(\u001b[0m\u001b[0mcar1\u001b[0m\u001b[1;33m.\u001b[0m\u001b[0mname\u001b[0m\u001b[1;33m,\u001b[0m\u001b[1;34m\"is now being driven\"\u001b[0m\u001b[1;33m)\u001b[0m\u001b[1;33m\u001b[0m\u001b[1;33m\u001b[0m\u001b[0m\n\u001b[0;32m     17\u001b[0m \u001b[1;33m\u001b[0m\u001b[0m\n\u001b[1;32m---> 18\u001b[1;33m \u001b[0mcar1\u001b[0m \u001b[1;33m=\u001b[0m \u001b[0mcar\u001b[0m\u001b[1;33m(\u001b[0m\u001b[1;34m\"civic\"\u001b[0m\u001b[1;33m,\u001b[0m \u001b[1;36m2019\u001b[0m\u001b[1;33m,\u001b[0m \u001b[1;34m\"black\"\u001b[0m\u001b[1;33m,\u001b[0m \u001b[1;34m\"honda\"\u001b[0m\u001b[1;33m,\u001b[0m \u001b[1;34m\"automatic\"\u001b[0m\u001b[1;33m)\u001b[0m\u001b[1;33m\u001b[0m\u001b[1;33m\u001b[0m\u001b[0m\n\u001b[0m\u001b[0;32m     19\u001b[0m \u001b[0mprint\u001b[0m\u001b[1;33m(\u001b[0m\u001b[1;34m\"car 1\"\u001b[0m\u001b[1;33m)\u001b[0m\u001b[1;33m\u001b[0m\u001b[1;33m\u001b[0m\u001b[0m\n\u001b[0;32m     20\u001b[0m \u001b[0mprint\u001b[0m\u001b[1;33m(\u001b[0m\u001b[1;34m\"name           :\"\u001b[0m\u001b[1;33m,\u001b[0m \u001b[0mcar1\u001b[0m\u001b[1;33m.\u001b[0m\u001b[0mname\u001b[0m\u001b[1;33m)\u001b[0m\u001b[1;33m\u001b[0m\u001b[1;33m\u001b[0m\u001b[0m\n",
      "\u001b[1;31mTypeError\u001b[0m: car() takes no arguments"
     ]
    }
   ],
   "source": [
    "class car():\n",
    "    def _init_(self, name, model, color, company, transmission):\n",
    "        self.name = mane\n",
    "        self.model = model\n",
    "        self.color = color\n",
    "        self.company = company\n",
    "        self.transmission = transmission\n",
    "        \n",
    "    def start():\n",
    "        print (car1.name,\"engine started\")\n",
    "        \n",
    "    def stop():\n",
    "        print (car2.name,\"engine switched off\")\n",
    "        \n",
    "    def drive():\n",
    "        print (car1.name,\"is now being driven\")\n",
    "\n",
    "car1 = car(\"civic\", 2019, \"black\", \"honda\", \"automatic\")\n",
    "print(\"car 1\")\n",
    "print(\"name           :\", car1.name)\n",
    "print(\"model          :\", car1.model)\n",
    "print(\"color          :\", car1.color)\n",
    "print(\"company        :\", car1.company)\n",
    "print(\"transmission   :\", car1.transmission, \"/n\")\n",
    "\n",
    "car2 = car(\"coure\", 2009, \"brown\", \"diahatus\", \"manual\")\n",
    "print(\"car 2\")\n",
    "print(\"name           :\", car2.name)\n",
    "print(\"model          :\", car2.model)\n",
    "print(\"color          :\", car2.color)\n",
    "print(\"company        :\", car2.company)\n",
    "print(\"transmission   :\", car2.transmission, \"/n\")\n",
    "\n",
    "car3 = car(\"corolla\", 2016, \"black\", \"toyota\", \"automatic\")\n",
    "print(\"car 3\")\n",
    "print(\"name           :\", car3.name)\n",
    "print(\"model          :\", car3.model)\n",
    "print(\"color          :\", car3.color)\n",
    "print(\"company        :\", car3.company)\n",
    "print(\"transmission   :\", car3.transmission, \"/n\")\n",
    "\n",
    "car4 = car(\"mehran\", 2017, \"grey\", \"suzuki\", \"manual\")\n",
    "print(\"car 4\")\n",
    "print(\"name           :\", car4.name)\n",
    "print(\"model          :\", car4.model)\n",
    "print(\"color          :\", car4.color)\n",
    "print(\"company        :\", car4.company)\n",
    "print(\"transmission   :\", car4.transmission, \"/n\")\n",
    "\n",
    "car5 = car(\"city\", 2018, \"white\", \"honda\", \"automatic\")\n",
    "print(\"car 5\")\n",
    "print(\"name           :\", car5.name)\n",
    "print(\"model          :\", car5.model)\n",
    "print(\"color          :\", car5.color)\n",
    "print(\"company        :\", car5.company)\n",
    "print(\"transmission   :\", car5.transmission, \"/n\")\n",
    "\n",
    "car.start()\n",
    "car.stop()\n",
    "car.drive()"
   ]
  },
  {
   "cell_type": "code",
   "execution_count": null,
   "metadata": {},
   "outputs": [],
   "source": []
  }
 ],
 "metadata": {
  "kernelspec": {
   "display_name": "Python 3",
   "language": "python",
   "name": "python3"
  },
  "language_info": {
   "codemirror_mode": {
    "name": "ipython",
    "version": 3
   },
   "file_extension": ".py",
   "mimetype": "text/x-python",
   "name": "python",
   "nbconvert_exporter": "python",
   "pygments_lexer": "ipython3",
   "version": "3.7.4"
  }
 },
 "nbformat": 4,
 "nbformat_minor": 2
}
